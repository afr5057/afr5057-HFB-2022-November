{
 "cells": [
  {
   "cell_type": "markdown",
   "id": "b8378d17",
   "metadata": {},
   "source": [
    "# 2018 Harris County Poverty Estimates - US Census\n",
    "\n",
    "This project goal is to use an API call to obtain poverty estimates from the US Census Bureau for Harris County, Texas in 2018. The data to be obtained is:\n",
    "* The estimated number of people under 18 years of age in poverty in 2018 in Harris County, Texas\n",
    "* The estimated number of individuals regardless of age in poverty in 2018 in Harris County, Texas\n",
    "* The estimated median household income in 2018 in Harris County, Texas"
   ]
  },
  {
   "cell_type": "code",
   "execution_count": 1,
   "id": "1d018d48",
   "metadata": {},
   "outputs": [],
   "source": [
    "import requests, csv\n",
    "import pandas as pd"
   ]
  },
  {
   "cell_type": "markdown",
   "id": "b9e089d8",
   "metadata": {},
   "source": [
    "### US Census tool to find data\n",
    "The Small Area Income and Poverty (SAIPE) dataset will provide poverty levels and estimated houshold incomes\n",
    "https://www.census.gov/programs-surveys/saipe/data/api.html\n",
    "\n",
    "Sample API call for Alabama in 2020\n",
    "//api.census.gov/data/timeseries/poverty/saipe?get=NAME,SAEPOVALL_PT,SAEPOVALL_MOE,SAEPOVRTALL_MOE,SAEPOVRTALL_PT&for=state:01&YEAR=2020"
   ]
  },
  {
   "cell_type": "markdown",
   "id": "659f8ec9",
   "metadata": {},
   "source": [
    "### URL to find FIPS code for Harris County, Texas\n",
    "https://www.census.gov/library/reference/code-lists/ansi.html#county\n",
    "\n",
    "https://www2.census.gov/geo/docs/reference/codes/files/st48_tx_cou.txt"
   ]
  },
  {
   "cell_type": "markdown",
   "id": "8154e9f1",
   "metadata": {},
   "source": [
    "#### Column Names \n",
    "(https://api.census.gov/data/timeseries/poverty/saipe/variables.html)\n",
    "* NAME = State or County Name\n",
    "* YEAR = Year of data\n",
    "* SAEPOV0_17_PT = Ages 0-17 in Poverty, Count Estimate\n",
    "* SAEPOVALL_PT = All ages in Poverty, Count Estimate\n",
    "* SAEMHI_PT = Median Household Income Estimate"
   ]
  },
  {
   "cell_type": "code",
   "execution_count": 2,
   "id": "33448bd4",
   "metadata": {},
   "outputs": [],
   "source": [
    "#census data variables\n",
    "year = '2018'\n",
    "dsource = 'poverty'\n",
    "dname = 'saipe'\n",
    "cols = 'NAME,YEAR,SAEPOV0_17_PT,SAEPOVALL_PT,SAEMHI_PT'\n",
    "state = 48\n",
    "county = 201\n",
    "#geoid = '48201'\n",
    "outfile = 'harrisco_2018_census.csv'\n",
    "api_key = '[your api key here]'\n",
    "base_url = f'https://api.census.gov/data/timeseries/{dsource}/{dname}'"
   ]
  },
  {
   "cell_type": "code",
   "execution_count": 3,
   "id": "993b8591",
   "metadata": {},
   "outputs": [],
   "source": [
    "# response query url\n",
    "query_url = f'{base_url}?get={cols}&for=county:{county}&in=state:{state}&time={year}&key={api_key}'"
   ]
  },
  {
   "cell_type": "code",
   "execution_count": 4,
   "id": "fbbc4857",
   "metadata": {},
   "outputs": [],
   "source": [
    "# response request\n",
    "response = requests.get(query_url).json()"
   ]
  },
  {
   "cell_type": "code",
   "execution_count": 5,
   "id": "f46495ee",
   "metadata": {},
   "outputs": [
    {
     "name": "stdout",
     "output_type": "stream",
     "text": [
      "[['NAME', 'YEAR', 'SAEPOV0_17_PT', 'SAEPOVALL_PT', 'SAEMHI_PT', 'time', 'state', 'county'], ['Harris County', '2018', '306893', '767367', '60241', '2018', '48', '201']]\n"
     ]
    }
   ],
   "source": [
    "# View the request response\n",
    "print(response)"
   ]
  },
  {
   "cell_type": "code",
   "execution_count": 6,
   "id": "f55315ed",
   "metadata": {},
   "outputs": [
    {
     "data": {
      "text/html": [
       "<div>\n",
       "<style scoped>\n",
       "    .dataframe tbody tr th:only-of-type {\n",
       "        vertical-align: middle;\n",
       "    }\n",
       "\n",
       "    .dataframe tbody tr th {\n",
       "        vertical-align: top;\n",
       "    }\n",
       "\n",
       "    .dataframe thead th {\n",
       "        text-align: right;\n",
       "    }\n",
       "</style>\n",
       "<table border=\"1\" class=\"dataframe\">\n",
       "  <thead>\n",
       "    <tr style=\"text-align: right;\">\n",
       "      <th></th>\n",
       "      <th>0</th>\n",
       "      <th>1</th>\n",
       "      <th>2</th>\n",
       "      <th>3</th>\n",
       "      <th>4</th>\n",
       "      <th>5</th>\n",
       "      <th>6</th>\n",
       "      <th>7</th>\n",
       "    </tr>\n",
       "  </thead>\n",
       "  <tbody>\n",
       "    <tr>\n",
       "      <th>0</th>\n",
       "      <td>NAME</td>\n",
       "      <td>YEAR</td>\n",
       "      <td>SAEPOV0_17_PT</td>\n",
       "      <td>SAEPOVALL_PT</td>\n",
       "      <td>SAEMHI_PT</td>\n",
       "      <td>time</td>\n",
       "      <td>state</td>\n",
       "      <td>county</td>\n",
       "    </tr>\n",
       "    <tr>\n",
       "      <th>1</th>\n",
       "      <td>Harris County</td>\n",
       "      <td>2018</td>\n",
       "      <td>306893</td>\n",
       "      <td>767367</td>\n",
       "      <td>60241</td>\n",
       "      <td>2018</td>\n",
       "      <td>48</td>\n",
       "      <td>201</td>\n",
       "    </tr>\n",
       "  </tbody>\n",
       "</table>\n",
       "</div>"
      ],
      "text/plain": [
       "               0     1              2             3          4     5      6  \\\n",
       "0           NAME  YEAR  SAEPOV0_17_PT  SAEPOVALL_PT  SAEMHI_PT  time  state   \n",
       "1  Harris County  2018         306893        767367      60241  2018     48   \n",
       "\n",
       "        7  \n",
       "0  county  \n",
       "1     201  "
      ]
     },
     "execution_count": 6,
     "metadata": {},
     "output_type": "execute_result"
    }
   ],
   "source": [
    "#create dataframe\n",
    "df = pd.DataFrame(response)\n",
    "# view dataframe created\n",
    "df"
   ]
  },
  {
   "cell_type": "code",
   "execution_count": 7,
   "id": "1f4f7b27",
   "metadata": {},
   "outputs": [
    {
     "data": {
      "text/html": [
       "<div>\n",
       "<style scoped>\n",
       "    .dataframe tbody tr th:only-of-type {\n",
       "        vertical-align: middle;\n",
       "    }\n",
       "\n",
       "    .dataframe tbody tr th {\n",
       "        vertical-align: top;\n",
       "    }\n",
       "\n",
       "    .dataframe thead th {\n",
       "        text-align: right;\n",
       "    }\n",
       "</style>\n",
       "<table border=\"1\" class=\"dataframe\">\n",
       "  <thead>\n",
       "    <tr style=\"text-align: right;\">\n",
       "      <th></th>\n",
       "      <th>NAME</th>\n",
       "      <th>YEAR</th>\n",
       "      <th>SAEPOV0_17_PT</th>\n",
       "      <th>SAEPOVALL_PT</th>\n",
       "      <th>SAEMHI_PT</th>\n",
       "      <th>time</th>\n",
       "      <th>state</th>\n",
       "      <th>county</th>\n",
       "    </tr>\n",
       "  </thead>\n",
       "  <tbody>\n",
       "    <tr>\n",
       "      <th>1</th>\n",
       "      <td>Harris County</td>\n",
       "      <td>2018</td>\n",
       "      <td>306893</td>\n",
       "      <td>767367</td>\n",
       "      <td>60241</td>\n",
       "      <td>2018</td>\n",
       "      <td>48</td>\n",
       "      <td>201</td>\n",
       "    </tr>\n",
       "  </tbody>\n",
       "</table>\n",
       "</div>"
      ],
      "text/plain": [
       "0           NAME  YEAR SAEPOV0_17_PT SAEPOVALL_PT SAEMHI_PT  time state county\n",
       "1  Harris County  2018        306893       767367     60241  2018    48    201"
      ]
     },
     "execution_count": 7,
     "metadata": {},
     "output_type": "execute_result"
    }
   ],
   "source": [
    "# Promote first row to be used as header\n",
    "df.columns=df.iloc[0]\n",
    "df = df[1:]\n",
    "df.head()"
   ]
  },
  {
   "cell_type": "code",
   "execution_count": 8,
   "id": "09d690ac",
   "metadata": {},
   "outputs": [],
   "source": [
    "#rename columns to readable names\n",
    "df2 = df.rename(columns = {'NAME':'LOCATION', 'SAEPOV0_17_PT':'EST._CHILDREN_IN_POVERTY', \n",
    "                     'SAEPOVALL_PT':'EST_ALL_RESIDENTS_IN_POVERTY', 'SAEMHI_PT':'EST_MEDIAN_HOUSEHOLD_INCOME'})"
   ]
  },
  {
   "cell_type": "code",
   "execution_count": 9,
   "id": "42f63122",
   "metadata": {
    "scrolled": true
   },
   "outputs": [],
   "source": [
    "#drop redundant columns\n",
    "df2 = df2.drop(columns=['time', 'state', 'county'])"
   ]
  },
  {
   "cell_type": "code",
   "execution_count": 10,
   "id": "b8c6c24b",
   "metadata": {},
   "outputs": [
    {
     "data": {
      "text/html": [
       "<div>\n",
       "<style scoped>\n",
       "    .dataframe tbody tr th:only-of-type {\n",
       "        vertical-align: middle;\n",
       "    }\n",
       "\n",
       "    .dataframe tbody tr th {\n",
       "        vertical-align: top;\n",
       "    }\n",
       "\n",
       "    .dataframe thead th {\n",
       "        text-align: right;\n",
       "    }\n",
       "</style>\n",
       "<table border=\"1\" class=\"dataframe\">\n",
       "  <thead>\n",
       "    <tr style=\"text-align: right;\">\n",
       "      <th></th>\n",
       "      <th>LOCATION</th>\n",
       "      <th>YEAR</th>\n",
       "      <th>EST._CHILDREN_IN_POVERTY</th>\n",
       "      <th>EST_ALL_RESIDENTS_IN_POVERTY</th>\n",
       "      <th>EST_MEDIAN_HOUSEHOLD_INCOME</th>\n",
       "    </tr>\n",
       "  </thead>\n",
       "  <tbody>\n",
       "    <tr>\n",
       "      <th>1</th>\n",
       "      <td>Harris County</td>\n",
       "      <td>2018</td>\n",
       "      <td>306893</td>\n",
       "      <td>767367</td>\n",
       "      <td>60241</td>\n",
       "    </tr>\n",
       "  </tbody>\n",
       "</table>\n",
       "</div>"
      ],
      "text/plain": [
       "0       LOCATION  YEAR EST._CHILDREN_IN_POVERTY EST_ALL_RESIDENTS_IN_POVERTY  \\\n",
       "1  Harris County  2018                   306893                       767367   \n",
       "\n",
       "0 EST_MEDIAN_HOUSEHOLD_INCOME  \n",
       "1                       60241  "
      ]
     },
     "execution_count": 10,
     "metadata": {},
     "output_type": "execute_result"
    }
   ],
   "source": [
    "#view formated dataframe\n",
    "df2.head()"
   ]
  },
  {
   "cell_type": "code",
   "execution_count": 12,
   "id": "1fc7fb24",
   "metadata": {},
   "outputs": [],
   "source": [
    "#export to csv\n",
    "df2.to_csv('harrisco_2018_census.csv', index=False)"
   ]
  },
  {
   "cell_type": "code",
   "execution_count": 13,
   "id": "2c3bf6da",
   "metadata": {},
   "outputs": [
    {
     "data": {
      "text/html": [
       "<div>\n",
       "<style scoped>\n",
       "    .dataframe tbody tr th:only-of-type {\n",
       "        vertical-align: middle;\n",
       "    }\n",
       "\n",
       "    .dataframe tbody tr th {\n",
       "        vertical-align: top;\n",
       "    }\n",
       "\n",
       "    .dataframe thead th {\n",
       "        text-align: right;\n",
       "    }\n",
       "</style>\n",
       "<table border=\"1\" class=\"dataframe\">\n",
       "  <thead>\n",
       "    <tr style=\"text-align: right;\">\n",
       "      <th></th>\n",
       "      <th>LOCATION</th>\n",
       "      <th>YEAR</th>\n",
       "      <th>EST._CHILDREN_IN_POVERTY</th>\n",
       "      <th>EST_ALL_RESIDENTS_IN_POVERTY</th>\n",
       "      <th>EST_MEDIAN_HOUSEHOLD_INCOME</th>\n",
       "    </tr>\n",
       "  </thead>\n",
       "  <tbody>\n",
       "    <tr>\n",
       "      <th>0</th>\n",
       "      <td>Harris County</td>\n",
       "      <td>2018</td>\n",
       "      <td>306893</td>\n",
       "      <td>767367</td>\n",
       "      <td>60241</td>\n",
       "    </tr>\n",
       "  </tbody>\n",
       "</table>\n",
       "</div>"
      ],
      "text/plain": [
       "        LOCATION  YEAR  EST._CHILDREN_IN_POVERTY  \\\n",
       "0  Harris County  2018                    306893   \n",
       "\n",
       "   EST_ALL_RESIDENTS_IN_POVERTY  EST_MEDIAN_HOUSEHOLD_INCOME  \n",
       "0                        767367                        60241  "
      ]
     },
     "execution_count": 13,
     "metadata": {},
     "output_type": "execute_result"
    }
   ],
   "source": [
    "#double check exported csv\n",
    "import_csv = pd.read_csv('harrisco_2018_census.csv')\n",
    "import_csv.head()"
   ]
  },
  {
   "cell_type": "markdown",
   "id": "6180b552",
   "metadata": {},
   "source": [
    "#### Conclusion:\n",
    "    * The estimated number of people under 18 years of age in poverty in 2018 in Harris County, Texas was 306,893 children\n",
    "    * The estimated number of individuals regardless of age in poverty in 2018 in Harris County, Texas was 767,367 people\n",
    "    * The estimated median household income in 2018 in Harris County Texas, was $60,241"
   ]
  },
  {
   "cell_type": "markdown",
   "id": "3b93ca3a",
   "metadata": {},
   "source": [
    "Thank you for your time to review"
   ]
  }
 ],
 "metadata": {
  "kernelspec": {
   "display_name": "Python 3 (ipykernel)",
   "language": "python",
   "name": "python3"
  },
  "language_info": {
   "codemirror_mode": {
    "name": "ipython",
    "version": 3
   },
   "file_extension": ".py",
   "mimetype": "text/x-python",
   "name": "python",
   "nbconvert_exporter": "python",
   "pygments_lexer": "ipython3",
   "version": "3.9.12"
  }
 },
 "nbformat": 4,
 "nbformat_minor": 5
}
